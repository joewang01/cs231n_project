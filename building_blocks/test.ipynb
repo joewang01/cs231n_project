{
 "cells": [
  {
   "cell_type": "code",
   "execution_count": 1,
   "metadata": {},
   "outputs": [
    {
     "name": "stdout",
     "output_type": "stream",
     "text": [
      "torch.Size([32, 1])\n"
     ]
    }
   ],
   "source": [
    "import torch\n",
    "import torch.nn as nn\n",
    "import torch.nn.functional as F\n",
    "\n",
    "class PositionalEncoding(nn.Module):\n",
    "    def __init__(self, d_model, max_len=5000):\n",
    "        super(PositionalEncoding, self).__init__()\n",
    "        pe = torch.zeros(max_len, d_model)\n",
    "        position = torch.arange(0, max_len, dtype=torch.float).unsqueeze(1)\n",
    "        div_term = torch.exp(torch.arange(0, d_model, 2).float() * (-torch.log(torch.tensor(10000.0)) / d_model))\n",
    "        pe[:, 0::2] = torch.sin(position * div_term)\n",
    "        pe[:, 1::2] = torch.cos(position * div_term)\n",
    "        pe = pe.unsqueeze(0)\n",
    "        self.register_buffer('pe', pe)\n",
    "\n",
    "    def forward(self, x):\n",
    "        x = x + self.pe[:, :x.size(1)]\n",
    "        return x\n",
    "\n",
    "class TransformerEncoderToVector(nn.Module):\n",
    "    def __init__(self, input_dim, d_model, nhead, num_encoder_layers, dim_feedforward, max_len=5000):\n",
    "        super(TransformerEncoderToVector, self).__init__()\n",
    "        self.d_model = d_model\n",
    "        self.embedding = nn.Embedding(input_dim, d_model)\n",
    "        self.pos_encoder = PositionalEncoding(d_model, max_len)\n",
    "        encoder_layers = nn.TransformerEncoderLayer(d_model, nhead, dim_feedforward, batch_first=True)\n",
    "        self.transformer_encoder = nn.TransformerEncoder(encoder_layers, num_encoder_layers)\n",
    "        self.fc = nn.Linear(d_model, 1)\n",
    "\n",
    "    def forward(self, src):\n",
    "        src = self.embedding(src) * torch.sqrt(torch.tensor(self.d_model, dtype=torch.float32))\n",
    "        src = self.pos_encoder(src)\n",
    "        output = self.transformer_encoder(src)\n",
    "        \n",
    "        # Method 1: Average Pooling\n",
    "        output = torch.mean(output, dim=1)\n",
    "        \n",
    "        # Method 2: Max Pooling (uncomment to use)\n",
    "        # output, _ = torch.max(output, dim=1)\n",
    "\n",
    "        # Method 3: Use first token (uncomment to use)\n",
    "        # output = output[:, 0, :]\n",
    "        \n",
    "        # Linear Layer (if further dimensionality reduction is needed)\n",
    "        output = self.fc(output)\n",
    "        \n",
    "        return output\n",
    "\n",
    "# Example usage\n",
    "input_dim = 1000  # Vocabulary size\n",
    "d_model = 512\n",
    "nhead = 8\n",
    "num_encoder_layers = 6\n",
    "dim_feedforward = 2048\n",
    "\n",
    "model = TransformerEncoderToVector(input_dim, d_model, nhead, num_encoder_layers, dim_feedforward)\n",
    "\n",
    "src = torch.randint(0, input_dim, (32, 10))  # (batch_size, sequence_length)\n",
    "\n",
    "output = model(src)\n",
    "print(output.shape)  # Should print (batch_size, 1)\n",
    "\n"
   ]
  },
  {
   "cell_type": "code",
   "execution_count": 3,
   "metadata": {},
   "outputs": [
    {
     "name": "stdout",
     "output_type": "stream",
     "text": [
      "torch.Size([32, 1000])\n"
     ]
    }
   ],
   "source": [
    "import torch\n",
    "import torch.nn as nn\n",
    "\n",
    "class BlockLinear(nn.Module):\n",
    "    def __init__(self, in_features, out_features, block_size):\n",
    "        super(BlockLinear, self).__init__()\n",
    "        self.in_features = in_features\n",
    "        self.out_features = out_features\n",
    "        self.block_size = block_size\n",
    "        \n",
    "        # Create smaller linear layers for each block\n",
    "        self.linear_blocks = nn.ModuleList()\n",
    "        for i in range(0, in_features, block_size):\n",
    "            current_block_size = min(block_size, in_features - i)\n",
    "            self.linear_blocks.append(nn.Linear(current_block_size, out_features))\n",
    "        \n",
    "    def forward(self, x):\n",
    "        # Assuming x is of shape (batch_size, in_features)\n",
    "        batch_size, in_features = x.shape\n",
    "        \n",
    "        # Split x into blocks\n",
    "        x_blocks = [x[:, i:i+self.block_size] for i in range(0, in_features, self.block_size)]\n",
    "        \n",
    "        # Apply linear transformation to each block and sum the results\n",
    "        out_blocks = [self.linear_blocks[i](block) for i, block in enumerate(x_blocks)]\n",
    "        \n",
    "        # Sum the outputs from all blocks\n",
    "        output = torch.sum(torch.stack(out_blocks, dim=2), dim=2)\n",
    "        \n",
    "        return output\n",
    "\n",
    "# Example usage\n",
    "in_features = 100000\n",
    "out_features = 1000\n",
    "block_size = 10000  # Block size\n",
    "\n",
    "x = torch.randn(32, in_features).cuda()  # Batch size of 32, input features of 100000\n",
    "model = BlockLinear(in_features, out_features, block_size).cuda()\n",
    "\n",
    "out = model(x)\n",
    "print(out.shape)  # Output shape should be (32, out_features)\n",
    "\n"
   ]
  },
  {
   "cell_type": "code",
   "execution_count": null,
   "metadata": {},
   "outputs": [],
   "source": []
  }
 ],
 "metadata": {
  "kernelspec": {
   "display_name": "cs231n_proj",
   "language": "python",
   "name": "python3"
  },
  "language_info": {
   "codemirror_mode": {
    "name": "ipython",
    "version": 3
   },
   "file_extension": ".py",
   "mimetype": "text/x-python",
   "name": "python",
   "nbconvert_exporter": "python",
   "pygments_lexer": "ipython3",
   "version": "3.11.9"
  }
 },
 "nbformat": 4,
 "nbformat_minor": 2
}
